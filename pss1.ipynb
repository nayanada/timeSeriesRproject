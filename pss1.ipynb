{
 "cells": [
  {
   "cell_type": "code",
   "execution_count": 96,
   "metadata": {
    "collapsed": false
   },
   "outputs": [],
   "source": [
    "library(readxl)\n",
    "library(ggplot2)\n",
    "library(stringr)\n",
    "library(dplyr)\n",
    "\n",
    "glrvs <- guides(fill=guide_legend(reverse = TRUE), color=guide_legend(reverse = TRUE)) \n",
    "\n",
    "setwd(\"~/Project_timeSeriesAnalysis/data\")\n",
    "\n",
    "\n",
    "mungfile <- function(filename,date){ # date:string, \"20160920\"\n",
    "        var_df <- read.csv(filename)\n",
    "        # selDeleteLine = str_detect(var_df[,2], \"[소총] 계\")\n",
    "        # var_df <- var_df[!selDeleteLine, ]\n",
    "        # 9/22 MINOR MODIFICATION. REMOVED $DIST IN FUNCTION TO ACCOMODATE CONNMAX FILE. \n",
    "        # var_df$dist <- cut(var_df$TotPrbDLMax,breaks = seq(0,100, by=10),\n",
    "        #                    labels = seq(10,100, by=10), include.lowest = TRUE)\n",
    "        var_df$datetime <- str_c(date, var_df$time, sep=\" \")\n",
    "        var_df$datetime <- as.POSIXct(strptime(var_df$datetime,\"%Y%m%d %H:%M\", tz=\"GMT\"))\n",
    "        var_df$date <- date\n",
    "        \n",
    "        if(!is.null(var_df$CNUM))\n",
    "                cellnum <- str_extract(var_df$CNUM, \"\\\\d\\\\d?\")\n",
    "        if(!is.null(var_df$CELL_ID))\n",
    "                cellnum <- str_extract(var_df$CELL_ID, \"\\\\d\\\\d?\")\n",
    "        var_df$cellid <- str_c(var_df$eNB, cellnum, sep = \"-\")\n",
    "        return(var_df)\n",
    "}\n",
    "\n"
   ]
  },
  {
   "cell_type": "code",
   "execution_count": 97,
   "metadata": {
    "collapsed": true
   },
   "outputs": [],
   "source": [
    "convCSV2dataframes <- function(pref){ #prefix of filename...\n",
    "        lfiles <- list.files(pattern = str_c(pref,\"\\\\d{8}\"))\n",
    "\n",
    "        for(file in lfiles){\n",
    "                fdate <- str_extract(file, \"\\\\d{8}\")\n",
    "                vdate <- str_sub(fdate,5)\n",
    "                assign(str_c(pref, vdate), mungfile(file,fdate), \n",
    "                       envir = .GlobalEnv)\n",
    "        }\n",
    "}\n",
    "\n",
    "convCSV2dataframes(\"prb5M\")\n",
    "convCSV2dataframes(\"conn5M\")\n",
    "convCSV2dataframes(\"conn1H\")\n",
    "convCSV2dataframes(\"prb1H\")"
   ]
  },
  {
   "cell_type": "code",
   "execution_count": 74,
   "metadata": {
    "collapsed": false
   },
   "outputs": [],
   "source": [
    "# get  time series of each cell on a matrix..\n",
    "\n",
    "mkMTX <- function(df, Freq, value){\n",
    "        value_index <-which(colnames(df)==value)\n",
    "        #realName <- colnames(df)[value_index]\n",
    "        colnames(df)[value_index] <- \"value\"\n",
    "        tmp_df <- df %>% filter(FREQUENCY==Freq) %>% \n",
    "                select(cellid, date, time, value) %>% \n",
    "                arrange(cellid,date,time)\n",
    "        \n",
    "        mtx <- matrix(data=tmp_df$value,nrow=nrow(tmp_df)/12,ncol=12,byrow=TRUE)\n",
    "        rownames(mtx) <- tmp_df$cellid[c(T,rep(F,11))]\n",
    "        return(mtx)\n",
    "}\n"
   ]
  },
  {
   "cell_type": "code",
   "execution_count": 75,
   "metadata": {
    "collapsed": false
   },
   "outputs": [
    {
     "data": {
      "text/html": [
       "<table>\n",
       "<thead><tr><th></th><th scope=col>X</th><th scope=col>complexinfo</th><th scope=col>FREQUENCY</th><th scope=col>CNUM</th><th scope=col>CellCount</th><th scope=col>TotPrbDLAvg</th><th scope=col>TotPrbDLMin</th><th scope=col>TotPrbDLMax</th><th scope=col>TotPrbDLTot</th><th scope=col>TotPrbDLCnt</th><th scope=col>...</th><th scope=col>TotPucchPuschPrbULAvg</th><th scope=col>TotUsedPuschPrbULNum</th><th scope=col>TotNgbrSCellPrbDLAvg</th><th scope=col>TotNgbrSCellPrbDLNum</th><th scope=col>TotAvailPrbDLNum</th><th scope=col>eNB</th><th scope=col>time</th><th scope=col>datetime</th><th scope=col>date</th><th scope=col>cellid</th></tr></thead>\n",
       "<tbody>\n",
       "\t<tr><th scope=row>1</th><td>0                                                  </td><td>S동대문제기_동대문구B1LDN_10(1-26507):(09:00-09:05)</td><td>2.1GHz(20M)                                        </td><td>cNum15                                             </td><td>1                                                  </td><td>5.9                                                </td><td>1.76                                               </td><td>45.08                                              </td><td>342.02                                             </td><td>58                                                 </td><td>...                                                </td><td>4                                                  </td><td>0                                                  </td><td>0.47                                               </td><td>138839                                             </td><td>29696000                                           </td><td>1-26507                                            </td><td>09:05                                              </td><td>2016-09-19 09:05:00                                </td><td>20160919                                           </td><td>1-26507-15                                         </td></tr>\n",
       "\t<tr><th scope=row>2</th><td>1                                                  </td><td>S동대문제기_동대문구B1LDN_10(1-26507):(09:00-09:05)</td><td>1.8GHz(20M)                                        </td><td>cNum13                                             </td><td>1                                                  </td><td>13.26                                              </td><td>2.67                                               </td><td>41.15                                              </td><td>768.79                                             </td><td>58                                                 </td><td>...                                                </td><td>4                                                  </td><td>0                                                  </td><td>4.65                                               </td><td>1380994                                            </td><td>29696000                                           </td><td>1-26507                                            </td><td>09:05                                              </td><td>2016-09-19 09:05:00                                </td><td>20160919                                           </td><td>1-26507-13                                         </td></tr>\n",
       "\t<tr><th scope=row>3</th><td>2                                                  </td><td>S동대문제기_동대문구B1LDN_10(1-26507):(09:00-09:05)</td><td>1.8GHz(20M)                                        </td><td>cNum5                                              </td><td>1                                                  </td><td>5.31                                               </td><td>1.74                                               </td><td>17.87                                              </td><td>313.5                                              </td><td>59                                                 </td><td>...                                                </td><td>4                                                  </td><td>0                                                  </td><td>0.4                                                </td><td>121476                                             </td><td>30208000                                           </td><td>1-26507                                            </td><td>09:05                                              </td><td>2016-09-19 09:05:00                                </td><td>20160919                                           </td><td>1-26507-5                                          </td></tr>\n",
       "\t<tr><th scope=row>4</th><td>3                                                  </td><td>S동대문제기_동대문구B1LDN_10(1-26507):(09:00-09:05)</td><td>1.8GHz(20M)                                        </td><td>cNum4                                              </td><td>1                                                  </td><td>12.99                                              </td><td>2.93                                               </td><td>35.1                                               </td><td>766.49                                             </td><td>59                                                 </td><td>...                                                </td><td>4                                                  </td><td>0                                                  </td><td>1.78                                               </td><td>537353                                             </td><td>30208000                                           </td><td>1-26507                                            </td><td>09:05                                              </td><td>2016-09-19 09:05:00                                </td><td>20160919                                           </td><td>1-26507-4                                          </td></tr>\n",
       "\t<tr><th scope=row>5</th><td>4                                                  </td><td>S동대문제기_동대문구B1LDN_10(1-26507):(09:00-09:05)</td><td>2.1GHz(20M)                                        </td><td>cNum6                                              </td><td>1                                                  </td><td>5.9                                                </td><td>1.95                                               </td><td>18.72                                              </td><td>348.11                                             </td><td>59                                                 </td><td>...                                                </td><td>4                                                  </td><td>0                                                  </td><td>0.58                                               </td><td>174410                                             </td><td>30208000                                           </td><td>1-26507                                            </td><td>09:05                                              </td><td>2016-09-19 09:05:00                                </td><td>20160919                                           </td><td>1-26507-6                                          </td></tr>\n",
       "\t<tr><th scope=row>6</th><td>5                                                  </td><td>S동대문제기_동대문구B1LDN_10(1-26507):(09:00-09:05)</td><td>800MHz                                             </td><td>cNum11                                             </td><td>1                                                  </td><td>10.38                                              </td><td>2.97                                               </td><td>85.21                                              </td><td>602.15                                             </td><td>58                                                 </td><td>...                                                </td><td>12                                                 </td><td>0                                                  </td><td>0.11                                               </td><td>16197                                              </td><td>14848000                                           </td><td>1-26507                                            </td><td>09:05                                              </td><td>2016-09-19 09:05:00                                </td><td>20160919                                           </td><td>1-26507-11                                         </td></tr>\n",
       "</tbody>\n",
       "</table>\n"
      ],
      "text/latex": [
       "\\begin{tabular}{r|llllllllllllllllllllllllllllllllllllllllllllllllll}\n",
       "  & X & complexinfo & FREQUENCY & CNUM & CellCount & TotPrbDLAvg & TotPrbDLMin & TotPrbDLMax & TotPrbDLTot & TotPrbDLCnt & ... & TotPucchPuschPrbULAvg & TotUsedPuschPrbULNum & TotNgbrSCellPrbDLAvg & TotNgbrSCellPrbDLNum & TotAvailPrbDLNum & eNB & time & datetime & date & cellid\\\\\n",
       "\\hline\n",
       "\t1 & 0                                                       & S동대문제기\\_동대문구B1LDN\\_10(1-26507):(09:00-09:05) & 2.1GHz(20M)                                             & cNum15                                                  & 1                                                       & 5.9                                                     & 1.76                                                    & 45.08                                                   & 342.02                                                  & 58                                                      & ...                                                     & 4                                                       & 0                                                       & 0.47                                                    & 138839                                                  & 29696000                                                & 1-26507                                                 & 09:05                                                   & 2016-09-19 09:05:00                                     & 20160919                                                & 1-26507-15                                             \\\\\n",
       "\t2 & 1                                                       & S동대문제기\\_동대문구B1LDN\\_10(1-26507):(09:00-09:05) & 1.8GHz(20M)                                             & cNum13                                                  & 1                                                       & 13.26                                                   & 2.67                                                    & 41.15                                                   & 768.79                                                  & 58                                                      & ...                                                     & 4                                                       & 0                                                       & 4.65                                                    & 1380994                                                 & 29696000                                                & 1-26507                                                 & 09:05                                                   & 2016-09-19 09:05:00                                     & 20160919                                                & 1-26507-13                                             \\\\\n",
       "\t3 & 2                                                       & S동대문제기\\_동대문구B1LDN\\_10(1-26507):(09:00-09:05) & 1.8GHz(20M)                                             & cNum5                                                   & 1                                                       & 5.31                                                    & 1.74                                                    & 17.87                                                   & 313.5                                                   & 59                                                      & ...                                                     & 4                                                       & 0                                                       & 0.4                                                     & 121476                                                  & 30208000                                                & 1-26507                                                 & 09:05                                                   & 2016-09-19 09:05:00                                     & 20160919                                                & 1-26507-5                                              \\\\\n",
       "\t4 & 3                                                       & S동대문제기\\_동대문구B1LDN\\_10(1-26507):(09:00-09:05) & 1.8GHz(20M)                                             & cNum4                                                   & 1                                                       & 12.99                                                   & 2.93                                                    & 35.1                                                    & 766.49                                                  & 59                                                      & ...                                                     & 4                                                       & 0                                                       & 1.78                                                    & 537353                                                  & 30208000                                                & 1-26507                                                 & 09:05                                                   & 2016-09-19 09:05:00                                     & 20160919                                                & 1-26507-4                                              \\\\\n",
       "\t5 & 4                                                       & S동대문제기\\_동대문구B1LDN\\_10(1-26507):(09:00-09:05) & 2.1GHz(20M)                                             & cNum6                                                   & 1                                                       & 5.9                                                     & 1.95                                                    & 18.72                                                   & 348.11                                                  & 59                                                      & ...                                                     & 4                                                       & 0                                                       & 0.58                                                    & 174410                                                  & 30208000                                                & 1-26507                                                 & 09:05                                                   & 2016-09-19 09:05:00                                     & 20160919                                                & 1-26507-6                                              \\\\\n",
       "\t6 & 5                                                       & S동대문제기\\_동대문구B1LDN\\_10(1-26507):(09:00-09:05) & 800MHz                                                  & cNum11                                                  & 1                                                       & 10.38                                                   & 2.97                                                    & 85.21                                                   & 602.15                                                  & 58                                                      & ...                                                     & 12                                                      & 0                                                       & 0.11                                                    & 16197                                                   & 14848000                                                & 1-26507                                                 & 09:05                                                   & 2016-09-19 09:05:00                                     & 20160919                                                & 1-26507-11                                             \\\\\n",
       "\\end{tabular}\n"
      ],
      "text/plain": [
       "  X                                         complexinfo   FREQUENCY   CNUM\n",
       "1 0 S동대문제기_동대문구B1LDN_10(1-26507):(09:00-09:05) 2.1GHz(20M) cNum15\n",
       "2 1 S동대문제기_동대문구B1LDN_10(1-26507):(09:00-09:05) 1.8GHz(20M) cNum13\n",
       "3 2 S동대문제기_동대문구B1LDN_10(1-26507):(09:00-09:05) 1.8GHz(20M)  cNum5\n",
       "4 3 S동대문제기_동대문구B1LDN_10(1-26507):(09:00-09:05) 1.8GHz(20M)  cNum4\n",
       "5 4 S동대문제기_동대문구B1LDN_10(1-26507):(09:00-09:05) 2.1GHz(20M)  cNum6\n",
       "6 5 S동대문제기_동대문구B1LDN_10(1-26507):(09:00-09:05)      800MHz cNum11\n",
       "  CellCount TotPrbDLAvg TotPrbDLMin TotPrbDLMax TotPrbDLTot TotPrbDLCnt ...\n",
       "1         1        5.90        1.76       45.08      342.02          58 ...\n",
       "2         1       13.26        2.67       41.15      768.79          58 ...\n",
       "3         1        5.31        1.74       17.87      313.50          59 ...\n",
       "4         1       12.99        2.93       35.10      766.49          59 ...\n",
       "5         1        5.90        1.95       18.72      348.11          59 ...\n",
       "6         1       10.38        2.97       85.21      602.15          58 ...\n",
       "  TotPucchPuschPrbULAvg TotUsedPuschPrbULNum TotNgbrSCellPrbDLAvg\n",
       "1                     4                    0                 0.47\n",
       "2                     4                    0                 4.65\n",
       "3                     4                    0                 0.40\n",
       "4                     4                    0                 1.78\n",
       "5                     4                    0                 0.58\n",
       "6                    12                    0                 0.11\n",
       "  TotNgbrSCellPrbDLNum TotAvailPrbDLNum     eNB  time            datetime\n",
       "1               138839         29696000 1-26507 09:05 2016-09-19 09:05:00\n",
       "2              1380994         29696000 1-26507 09:05 2016-09-19 09:05:00\n",
       "3               121476         30208000 1-26507 09:05 2016-09-19 09:05:00\n",
       "4               537353         30208000 1-26507 09:05 2016-09-19 09:05:00\n",
       "5               174410         30208000 1-26507 09:05 2016-09-19 09:05:00\n",
       "6                16197         14848000 1-26507 09:05 2016-09-19 09:05:00\n",
       "      date     cellid\n",
       "1 20160919 1-26507-15\n",
       "2 20160919 1-26507-13\n",
       "3 20160919  1-26507-5\n",
       "4 20160919  1-26507-4\n",
       "5 20160919  1-26507-6\n",
       "6 20160919 1-26507-11"
      ]
     },
     "metadata": {},
     "output_type": "display_data"
    }
   ],
   "source": [
    "head(prb5M0919)"
   ]
  },
  {
   "cell_type": "code",
   "execution_count": 76,
   "metadata": {
    "collapsed": false
   },
   "outputs": [],
   "source": [
    "mtx0919max <- mkMTX(prb5M0919, \"800MHz\", \"TotPrbDLMax\")\n",
    "mtx0920max <- mkMTX(prb5M0920, \"800MHz\", \"TotPrbDLMax\")\n",
    "mtx0921max <- mkMTX(prb5M0921, \"800MHz\", \"TotPrbDLMax\")\n",
    "\n",
    "mtx0919avg <- mkMTX(prb5M0919, \"800MHz\", \"TotPrbDLAvg\")\n",
    "mtx0920avg <- mkMTX(prb5M0920, \"800MHz\", \"TotPrbDLAvg\")\n",
    "mtx0921avg <- mkMTX(prb5M0921, \"800MHz\", \"TotPrbDLAvg\")\n",
    "\n",
    "maxoveravg <- mtx0919max/mtx0919avg"
   ]
  },
  {
   "cell_type": "code",
   "execution_count": 77,
   "metadata": {
    "collapsed": false
   },
   "outputs": [],
   "source": [
    "arr_PDmax <- array(0, c(dim(mtx0919max)[1], 12, 5), \n",
    "                   dimnames = list(rownames(mtx0919max),NULL, NULL))\n",
    "\n",
    "arr_PDmax[,,1] <- mtx0919max\n",
    "arr_PDmax[,,2] <- mtx0920max\n",
    "arr_PDmax[,,3] <- mtx0921max\n",
    "\n",
    "arr_PDavg <- array(0, c(dim(mtx0919avg)[1], 12, 5), \n",
    "                   dimnames = list(rownames(mtx0919avg),NULL, NULL))\n",
    "\n",
    "arr_PDavg[,,1] <- mtx0919avg\n",
    "arr_PDavg[,,2] <- mtx0920avg\n",
    "arr_PDavg[,,3] <- mtx0921avg"
   ]
  },
  {
   "cell_type": "code",
   "execution_count": 78,
   "metadata": {
    "collapsed": false
   },
   "outputs": [
    {
     "data": {
      "text/html": [
       "<table>\n",
       "<tbody>\n",
       "\t<tr><th scope=row>1-17097-0</th><td>0</td><td>0</td><td>0</td><td>0</td><td>0</td><td>0</td><td>0</td><td>0</td><td>0</td><td>0</td><td>0</td><td>0</td></tr>\n",
       "\t<tr><th scope=row>1-17097-1</th><td>99.81</td><td>96.06</td><td>94.76</td><td>97.14</td><td>96.06</td><td>97.26</td><td>37.30</td><td>99.37</td><td>98.19</td><td>26.71</td><td>62.55</td><td>89.87</td></tr>\n",
       "\t<tr><th scope=row>1-17097-10</th><td>99.28</td><td>99.16</td><td>95.61</td><td>98.58</td><td>96.86</td><td>98.96</td><td>99.33</td><td>99.19</td><td>98.94</td><td>98.98</td><td>98.87</td><td>98.96</td></tr>\n",
       "\t<tr><th scope=row>1-17097-11</th><td>97.11</td><td>42.22</td><td>97.87</td><td>79.17</td><td>98.25</td><td>97.70</td><td>98.78</td><td>98.32</td><td>71.51</td><td>91.57</td><td>89.37</td><td>99.05</td></tr>\n",
       "\t<tr><th scope=row>1-17097-2</th><td>89.76</td><td>88.80</td><td>75.20</td><td>46.89</td><td>94.33</td><td>62.98</td><td>88.95</td><td>66.93</td><td>96.81</td><td>96.83</td><td>96.78</td><td>99.22</td></tr>\n",
       "\t<tr><th scope=row>1-17097-9</th><td>0</td><td>0</td><td>0</td><td>0</td><td>0</td><td>0</td><td>0</td><td>0</td><td>0</td><td>0</td><td>0</td><td>0</td></tr>\n",
       "</tbody>\n",
       "</table>\n"
      ],
      "text/latex": [
       "\\begin{tabular}{r|llllllllllll}\n",
       "\t1-17097-0 & 0 & 0 & 0 & 0 & 0 & 0 & 0 & 0 & 0 & 0 & 0 & 0\\\\\n",
       "\t1-17097-1 & 99.81 & 96.06 & 94.76 & 97.14 & 96.06 & 97.26 & 37.30 & 99.37 & 98.19 & 26.71 & 62.55 & 89.87\\\\\n",
       "\t1-17097-10 & 99.28 & 99.16 & 95.61 & 98.58 & 96.86 & 98.96 & 99.33 & 99.19 & 98.94 & 98.98 & 98.87 & 98.96\\\\\n",
       "\t1-17097-11 & 97.11 & 42.22 & 97.87 & 79.17 & 98.25 & 97.70 & 98.78 & 98.32 & 71.51 & 91.57 & 89.37 & 99.05\\\\\n",
       "\t1-17097-2 & 89.76 & 88.80 & 75.20 & 46.89 & 94.33 & 62.98 & 88.95 & 66.93 & 96.81 & 96.83 & 96.78 & 99.22\\\\\n",
       "\t1-17097-9 & 0 & 0 & 0 & 0 & 0 & 0 & 0 & 0 & 0 & 0 & 0 & 0\\\\\n",
       "\\end{tabular}\n"
      ],
      "text/markdown": [
       "1. 0\n",
       "2. 99.81\n",
       "3. 99.28\n",
       "4. 97.11\n",
       "5. 89.76\n",
       "6. 0\n",
       "7. 0\n",
       "8. 96.06\n",
       "9. 99.16\n",
       "10. 42.22\n",
       "11. 88.8\n",
       "12. 0\n",
       "13. 0\n",
       "14. 94.76\n",
       "15. 95.61\n",
       "16. 97.87\n",
       "17. 75.2\n",
       "18. 0\n",
       "19. 0\n",
       "20. 97.14\n",
       "21. 98.58\n",
       "22. 79.17\n",
       "23. 46.89\n",
       "24. 0\n",
       "25. 0\n",
       "26. 96.06\n",
       "27. 96.86\n",
       "28. 98.25\n",
       "29. 94.33\n",
       "30. 0\n",
       "31. 0\n",
       "32. 97.26\n",
       "33. 98.96\n",
       "34. 97.7\n",
       "35. 62.98\n",
       "36. 0\n",
       "37. 0\n",
       "38. 37.3\n",
       "39. 99.33\n",
       "40. 98.78\n",
       "41. 88.95\n",
       "42. 0\n",
       "43. 0\n",
       "44. 99.37\n",
       "45. 99.19\n",
       "46. 98.32\n",
       "47. 66.93\n",
       "48. 0\n",
       "49. 0\n",
       "50. 98.19\n",
       "51. 98.94\n",
       "52. 71.51\n",
       "53. 96.81\n",
       "54. 0\n",
       "55. 0\n",
       "56. 26.71\n",
       "57. 98.98\n",
       "58. 91.57\n",
       "59. 96.83\n",
       "60. 0\n",
       "61. 0\n",
       "62. 62.55\n",
       "63. 98.87\n",
       "64. 89.37\n",
       "65. 96.78\n",
       "66. 0\n",
       "67. 0\n",
       "68. 89.87\n",
       "69. 98.96\n",
       "70. 99.05\n",
       "71. 99.22\n",
       "72. 0\n",
       "\n",
       "\n"
      ],
      "text/plain": [
       "            [,1]  [,2]  [,3]  [,4]  [,5]  [,6]  [,7]  [,8]  [,9] [,10] [,11]\n",
       "1-17097-0   0.00  0.00  0.00  0.00  0.00  0.00  0.00  0.00  0.00  0.00  0.00\n",
       "1-17097-1  99.81 96.06 94.76 97.14 96.06 97.26 37.30 99.37 98.19 26.71 62.55\n",
       "1-17097-10 99.28 99.16 95.61 98.58 96.86 98.96 99.33 99.19 98.94 98.98 98.87\n",
       "1-17097-11 97.11 42.22 97.87 79.17 98.25 97.70 98.78 98.32 71.51 91.57 89.37\n",
       "1-17097-2  89.76 88.80 75.20 46.89 94.33 62.98 88.95 66.93 96.81 96.83 96.78\n",
       "1-17097-9   0.00  0.00  0.00  0.00  0.00  0.00  0.00  0.00  0.00  0.00  0.00\n",
       "           [,12]\n",
       "1-17097-0   0.00\n",
       "1-17097-1  89.87\n",
       "1-17097-10 98.96\n",
       "1-17097-11 99.05\n",
       "1-17097-2  99.22\n",
       "1-17097-9   0.00"
      ]
     },
     "metadata": {},
     "output_type": "display_data"
    }
   ],
   "source": [
    "head(arr_PDmax[,,1])"
   ]
  },
  {
   "cell_type": "code",
   "execution_count": 79,
   "metadata": {
    "collapsed": false
   },
   "outputs": [
    {
     "data": {
      "text/html": [
       "<table>\n",
       "<tbody>\n",
       "\t<tr><th scope=row>1-17097-0</th><td>0</td><td>0</td><td>0</td><td>0</td><td>0</td><td>0</td><td>0</td><td>0</td><td>0</td><td>0</td><td>0</td><td>0</td></tr>\n",
       "\t<tr><th scope=row>1-17097-1</th><td>99.81</td><td>96.06</td><td>94.76</td><td>97.14</td><td>96.06</td><td>97.26</td><td>37.30</td><td>99.37</td><td>98.19</td><td>26.71</td><td>62.55</td><td>89.87</td></tr>\n",
       "\t<tr><th scope=row>1-17097-10</th><td>99.28</td><td>99.16</td><td>95.61</td><td>98.58</td><td>96.86</td><td>98.96</td><td>99.33</td><td>99.19</td><td>98.94</td><td>98.98</td><td>98.87</td><td>98.96</td></tr>\n",
       "\t<tr><th scope=row>1-17097-11</th><td>97.11</td><td>42.22</td><td>97.87</td><td>79.17</td><td>98.25</td><td>97.70</td><td>98.78</td><td>98.32</td><td>71.51</td><td>91.57</td><td>89.37</td><td>99.05</td></tr>\n",
       "\t<tr><th scope=row>1-17097-2</th><td>89.76</td><td>88.80</td><td>75.20</td><td>46.89</td><td>94.33</td><td>62.98</td><td>88.95</td><td>66.93</td><td>96.81</td><td>96.83</td><td>96.78</td><td>99.22</td></tr>\n",
       "\t<tr><th scope=row>1-17097-9</th><td>0</td><td>0</td><td>0</td><td>0</td><td>0</td><td>0</td><td>0</td><td>0</td><td>0</td><td>0</td><td>0</td><td>0</td></tr>\n",
       "</tbody>\n",
       "</table>\n"
      ],
      "text/latex": [
       "\\begin{tabular}{r|llllllllllll}\n",
       "\t1-17097-0 & 0 & 0 & 0 & 0 & 0 & 0 & 0 & 0 & 0 & 0 & 0 & 0\\\\\n",
       "\t1-17097-1 & 99.81 & 96.06 & 94.76 & 97.14 & 96.06 & 97.26 & 37.30 & 99.37 & 98.19 & 26.71 & 62.55 & 89.87\\\\\n",
       "\t1-17097-10 & 99.28 & 99.16 & 95.61 & 98.58 & 96.86 & 98.96 & 99.33 & 99.19 & 98.94 & 98.98 & 98.87 & 98.96\\\\\n",
       "\t1-17097-11 & 97.11 & 42.22 & 97.87 & 79.17 & 98.25 & 97.70 & 98.78 & 98.32 & 71.51 & 91.57 & 89.37 & 99.05\\\\\n",
       "\t1-17097-2 & 89.76 & 88.80 & 75.20 & 46.89 & 94.33 & 62.98 & 88.95 & 66.93 & 96.81 & 96.83 & 96.78 & 99.22\\\\\n",
       "\t1-17097-9 & 0 & 0 & 0 & 0 & 0 & 0 & 0 & 0 & 0 & 0 & 0 & 0\\\\\n",
       "\\end{tabular}\n"
      ],
      "text/markdown": [
       "1. 0\n",
       "2. 99.81\n",
       "3. 99.28\n",
       "4. 97.11\n",
       "5. 89.76\n",
       "6. 0\n",
       "7. 0\n",
       "8. 96.06\n",
       "9. 99.16\n",
       "10. 42.22\n",
       "11. 88.8\n",
       "12. 0\n",
       "13. 0\n",
       "14. 94.76\n",
       "15. 95.61\n",
       "16. 97.87\n",
       "17. 75.2\n",
       "18. 0\n",
       "19. 0\n",
       "20. 97.14\n",
       "21. 98.58\n",
       "22. 79.17\n",
       "23. 46.89\n",
       "24. 0\n",
       "25. 0\n",
       "26. 96.06\n",
       "27. 96.86\n",
       "28. 98.25\n",
       "29. 94.33\n",
       "30. 0\n",
       "31. 0\n",
       "32. 97.26\n",
       "33. 98.96\n",
       "34. 97.7\n",
       "35. 62.98\n",
       "36. 0\n",
       "37. 0\n",
       "38. 37.3\n",
       "39. 99.33\n",
       "40. 98.78\n",
       "41. 88.95\n",
       "42. 0\n",
       "43. 0\n",
       "44. 99.37\n",
       "45. 99.19\n",
       "46. 98.32\n",
       "47. 66.93\n",
       "48. 0\n",
       "49. 0\n",
       "50. 98.19\n",
       "51. 98.94\n",
       "52. 71.51\n",
       "53. 96.81\n",
       "54. 0\n",
       "55. 0\n",
       "56. 26.71\n",
       "57. 98.98\n",
       "58. 91.57\n",
       "59. 96.83\n",
       "60. 0\n",
       "61. 0\n",
       "62. 62.55\n",
       "63. 98.87\n",
       "64. 89.37\n",
       "65. 96.78\n",
       "66. 0\n",
       "67. 0\n",
       "68. 89.87\n",
       "69. 98.96\n",
       "70. 99.05\n",
       "71. 99.22\n",
       "72. 0\n",
       "\n",
       "\n"
      ],
      "text/plain": [
       "            [,1]  [,2]  [,3]  [,4]  [,5]  [,6]  [,7]  [,8]  [,9] [,10] [,11]\n",
       "1-17097-0   0.00  0.00  0.00  0.00  0.00  0.00  0.00  0.00  0.00  0.00  0.00\n",
       "1-17097-1  99.81 96.06 94.76 97.14 96.06 97.26 37.30 99.37 98.19 26.71 62.55\n",
       "1-17097-10 99.28 99.16 95.61 98.58 96.86 98.96 99.33 99.19 98.94 98.98 98.87\n",
       "1-17097-11 97.11 42.22 97.87 79.17 98.25 97.70 98.78 98.32 71.51 91.57 89.37\n",
       "1-17097-2  89.76 88.80 75.20 46.89 94.33 62.98 88.95 66.93 96.81 96.83 96.78\n",
       "1-17097-9   0.00  0.00  0.00  0.00  0.00  0.00  0.00  0.00  0.00  0.00  0.00\n",
       "           [,12]\n",
       "1-17097-0   0.00\n",
       "1-17097-1  89.87\n",
       "1-17097-10 98.96\n",
       "1-17097-11 99.05\n",
       "1-17097-2  99.22\n",
       "1-17097-9   0.00"
      ]
     },
     "metadata": {},
     "output_type": "display_data"
    },
    {
     "data": {
      "text/html": [
       "<dl class=dl-horizontal>\n",
       "\t<dt>1-17097-0</dt>\n",
       "\t\t<dd>0</dd>\n",
       "\t<dt>1-17097-1</dt>\n",
       "\t\t<dd>9</dd>\n",
       "\t<dt>1-17097-10</dt>\n",
       "\t\t<dd>12</dd>\n",
       "\t<dt>1-17097-11</dt>\n",
       "\t\t<dd>9</dd>\n",
       "\t<dt>1-17097-2</dt>\n",
       "\t\t<dd>8</dd>\n",
       "\t<dt>1-17097-9</dt>\n",
       "\t\t<dd>0</dd>\n",
       "</dl>\n"
      ],
      "text/latex": [
       "\\begin{description*}\n",
       "\\item[1-17097-0] 0\n",
       "\\item[1-17097-1] 9\n",
       "\\item[1-17097-10] 12\n",
       "\\item[1-17097-11] 9\n",
       "\\item[1-17097-2] 8\n",
       "\\item[1-17097-9] 0\n",
       "\\end{description*}\n"
      ],
      "text/markdown": [
       "1-17097-0\n",
       ":   01-17097-1\n",
       ":   91-17097-10\n",
       ":   121-17097-11\n",
       ":   91-17097-2\n",
       ":   81-17097-9\n",
       ":   0\n",
       "\n"
      ],
      "text/plain": [
       " 1-17097-0  1-17097-1 1-17097-10 1-17097-11  1-17097-2  1-17097-9 \n",
       "         0          9         12          9          8          0 "
      ]
     },
     "metadata": {},
     "output_type": "display_data"
    }
   ],
   "source": [
    "head(arr_PDmax[,,1])\n",
    "head(apply(arr_PDmax[,,1],1,function(x) sum(x > 80)))"
   ]
  },
  {
   "cell_type": "code",
   "execution_count": 80,
   "metadata": {
    "collapsed": false
   },
   "outputs": [
    {
     "data": {
      "image/png": "[encoded data removed]",
      "text/plain": [
       "Plot with title \"Histogram of m0919Havg\""
      ]
     },
     "metadata": {
      "image/svg+xml": {
       "isolated": true
      }
     },
     "output_type": "display_data"
    }
   ],
   "source": [
    "# 1hour average\n",
    "m0919Havg <- apply(mtx0919avg, 1, mean)\n",
    "hist(m0919Havg)"
   ]
  },
  {
   "cell_type": "code",
   "execution_count": 81,
   "metadata": {
    "collapsed": false
   },
   "outputs": [
    {
     "data": {
      "text/html": [
       "<ol class=list-inline>\n",
       "\t<li>\"1-17097-10\"</li>\n",
       "\t<li>\"1-17097-11\"</li>\n",
       "\t<li>\"1-17098-9\"</li>\n",
       "\t<li>\"1-17101-0\"</li>\n",
       "\t<li>\"1-17107-0\"</li>\n",
       "\t<li>\"1-17112-9\"</li>\n",
       "\t<li>\"1-17124-10\"</li>\n",
       "\t<li>\"1-17128-0\"</li>\n",
       "\t<li>\"1-20234-2\"</li>\n",
       "\t<li>\"1-20238-11\"</li>\n",
       "\t<li>\"1-21622-9\"</li>\n",
       "\t<li>\"1-24716-11\"</li>\n",
       "\t<li>\"1-24717-11\"</li>\n",
       "\t<li>\"1-25412-11\"</li>\n",
       "\t<li>\"1-26499-9\"</li>\n",
       "\t<li>\"1-26503-1\"</li>\n",
       "\t<li>\"1-26509-1\"</li>\n",
       "\t<li>\"1-26513-1\"</li>\n",
       "\t<li>\"1-26538-11\"</li>\n",
       "\t<li>\"1-26539-0\"</li>\n",
       "</ol>\n"
      ],
      "text/latex": [
       "\\begin{enumerate*}\n",
       "\\item \"1-17097-10\"\n",
       "\\item \"1-17097-11\"\n",
       "\\item \"1-17098-9\"\n",
       "\\item \"1-17101-0\"\n",
       "\\item \"1-17107-0\"\n",
       "\\item \"1-17112-9\"\n",
       "\\item \"1-17124-10\"\n",
       "\\item \"1-17128-0\"\n",
       "\\item \"1-20234-2\"\n",
       "\\item \"1-20238-11\"\n",
       "\\item \"1-21622-9\"\n",
       "\\item \"1-24716-11\"\n",
       "\\item \"1-24717-11\"\n",
       "\\item \"1-25412-11\"\n",
       "\\item \"1-26499-9\"\n",
       "\\item \"1-26503-1\"\n",
       "\\item \"1-26509-1\"\n",
       "\\item \"1-26513-1\"\n",
       "\\item \"1-26538-11\"\n",
       "\\item \"1-26539-0\"\n",
       "\\end{enumerate*}\n"
      ],
      "text/markdown": [
       "1. \"1-17097-10\"\n",
       "2. \"1-17097-11\"\n",
       "3. \"1-17098-9\"\n",
       "4. \"1-17101-0\"\n",
       "5. \"1-17107-0\"\n",
       "6. \"1-17112-9\"\n",
       "7. \"1-17124-10\"\n",
       "8. \"1-17128-0\"\n",
       "9. \"1-20234-2\"\n",
       "10. \"1-20238-11\"\n",
       "11. \"1-21622-9\"\n",
       "12. \"1-24716-11\"\n",
       "13. \"1-24717-11\"\n",
       "14. \"1-25412-11\"\n",
       "15. \"1-26499-9\"\n",
       "16. \"1-26503-1\"\n",
       "17. \"1-26509-1\"\n",
       "18. \"1-26513-1\"\n",
       "19. \"1-26538-11\"\n",
       "20. \"1-26539-0\"\n",
       "\n",
       "\n"
      ],
      "text/plain": [
       " [1] \"1-17097-10\" \"1-17097-11\" \"1-17098-9\"  \"1-17101-0\"  \"1-17107-0\" \n",
       " [6] \"1-17112-9\"  \"1-17124-10\" \"1-17128-0\"  \"1-20234-2\"  \"1-20238-11\"\n",
       "[11] \"1-21622-9\"  \"1-24716-11\" \"1-24717-11\" \"1-25412-11\" \"1-26499-9\" \n",
       "[16] \"1-26503-1\"  \"1-26509-1\"  \"1-26513-1\"  \"1-26538-11\" \"1-26539-0\" "
      ]
     },
     "metadata": {},
     "output_type": "display_data"
    }
   ],
   "source": [
    "# cellid's above avg PRB 15% \n",
    "tmp_mtx <-m0919Havg[m0919Havg > 30]\n",
    "cellid_heavy <- attr(tmp_mtx,\"names\")\n",
    "cellid_heavy"
   ]
  },
  {
   "cell_type": "code",
   "execution_count": 82,
   "metadata": {
    "collapsed": false
   },
   "outputs": [
    {
     "data": {
      "text/html": [
       "<dl class=dl-horizontal>\n",
       "\t<dt>1-17097-10</dt>\n",
       "\t\t<dd>12</dd>\n",
       "\t<dt>1-17097-11</dt>\n",
       "\t\t<dd>9</dd>\n",
       "\t<dt>1-17098-9</dt>\n",
       "\t\t<dd>7</dd>\n",
       "\t<dt>1-17101-0</dt>\n",
       "\t\t<dd>8</dd>\n",
       "\t<dt>1-17107-0</dt>\n",
       "\t\t<dd>12</dd>\n",
       "\t<dt>1-17112-9</dt>\n",
       "\t\t<dd>11</dd>\n",
       "\t<dt>1-17124-10</dt>\n",
       "\t\t<dd>10</dd>\n",
       "\t<dt>1-17128-0</dt>\n",
       "\t\t<dd>8</dd>\n",
       "\t<dt>1-20234-2</dt>\n",
       "\t\t<dd>12</dd>\n",
       "\t<dt>1-20238-11</dt>\n",
       "\t\t<dd>9</dd>\n",
       "\t<dt>1-21622-9</dt>\n",
       "\t\t<dd>4</dd>\n",
       "\t<dt>1-24716-11</dt>\n",
       "\t\t<dd>3</dd>\n",
       "\t<dt>1-24717-11</dt>\n",
       "\t\t<dd>12</dd>\n",
       "\t<dt>1-25412-11</dt>\n",
       "\t\t<dd>12</dd>\n",
       "\t<dt>1-26499-9</dt>\n",
       "\t\t<dd>12</dd>\n",
       "\t<dt>1-26503-1</dt>\n",
       "\t\t<dd>10</dd>\n",
       "\t<dt>1-26509-1</dt>\n",
       "\t\t<dd>7</dd>\n",
       "\t<dt>1-26513-1</dt>\n",
       "\t\t<dd>9</dd>\n",
       "\t<dt>1-26538-11</dt>\n",
       "\t\t<dd>9</dd>\n",
       "\t<dt>1-26539-0</dt>\n",
       "\t\t<dd>10</dd>\n",
       "</dl>\n"
      ],
      "text/latex": [
       "\\begin{description*}\n",
       "\\item[1-17097-10] 12\n",
       "\\item[1-17097-11] 9\n",
       "\\item[1-17098-9] 7\n",
       "\\item[1-17101-0] 8\n",
       "\\item[1-17107-0] 12\n",
       "\\item[1-17112-9] 11\n",
       "\\item[1-17124-10] 10\n",
       "\\item[1-17128-0] 8\n",
       "\\item[1-20234-2] 12\n",
       "\\item[1-20238-11] 9\n",
       "\\item[1-21622-9] 4\n",
       "\\item[1-24716-11] 3\n",
       "\\item[1-24717-11] 12\n",
       "\\item[1-25412-11] 12\n",
       "\\item[1-26499-9] 12\n",
       "\\item[1-26503-1] 10\n",
       "\\item[1-26509-1] 7\n",
       "\\item[1-26513-1] 9\n",
       "\\item[1-26538-11] 9\n",
       "\\item[1-26539-0] 10\n",
       "\\end{description*}\n"
      ],
      "text/markdown": [
       "1-17097-10\n",
       ":   121-17097-11\n",
       ":   91-17098-9\n",
       ":   71-17101-0\n",
       ":   81-17107-0\n",
       ":   121-17112-9\n",
       ":   111-17124-10\n",
       ":   101-17128-0\n",
       ":   81-20234-2\n",
       ":   121-20238-11\n",
       ":   91-21622-9\n",
       ":   41-24716-11\n",
       ":   31-24717-11\n",
       ":   121-25412-11\n",
       ":   121-26499-9\n",
       ":   121-26503-1\n",
       ":   101-26509-1\n",
       ":   71-26513-1\n",
       ":   91-26538-11\n",
       ":   91-26539-0\n",
       ":   10\n",
       "\n"
      ],
      "text/plain": [
       "1-17097-10 1-17097-11  1-17098-9  1-17101-0  1-17107-0  1-17112-9 1-17124-10 \n",
       "        12          9          7          8         12         11         10 \n",
       " 1-17128-0  1-20234-2 1-20238-11  1-21622-9 1-24716-11 1-24717-11 1-25412-11 \n",
       "         8         12          9          4          3         12         12 \n",
       " 1-26499-9  1-26503-1  1-26509-1  1-26513-1 1-26538-11  1-26539-0 \n",
       "        12         10          7          9          9         10 "
      ]
     },
     "metadata": {},
     "output_type": "display_data"
    },
    {
     "data": {
      "image/png": "[encoded data removed]",
      "text/plain": [
       "Plot with title \"Histogram of apply(arr_PDmax[cellid_heavy, , 1], 1, function(x) sum(x > 80))\""
      ]
     },
     "metadata": {
      "image/svg+xml": {
       "isolated": true
      }
     },
     "output_type": "display_data"
    }
   ],
   "source": [
    "# counts of PRB max above 80 in the heavy avg cell  \n",
    "apply(arr_PDmax[cellid_heavy,,1],1, function(x) sum(x > 80))\n",
    "hist(apply(arr_PDmax[cellid_heavy,,1],1, function(x) sum(x > 80)))"
   ]
  },
  {
   "cell_type": "code",
   "execution_count": 83,
   "metadata": {
    "collapsed": false,
    "scrolled": true
   },
   "outputs": [
    {
     "data": {
      "image/png": "[encoded data removed]",
      "text/plain": [
       "plot without title"
      ]
     },
     "metadata": {
      "image/svg+xml": {
       "isolated": true
      }
     },
     "output_type": "display_data"
    }
   ],
   "source": [
    "ggplot(p5M0919 %>% filter(cellid %in% cellid_heavy[1:5]),\n",
    "       aes(time,TotPrbDLMax,color=cellid, group=cellid)) + geom_line(size=2) "
   ]
  },
  {
   "cell_type": "code",
   "execution_count": 93,
   "metadata": {
    "collapsed": false
   },
   "outputs": [],
   "source": [
    "################ daily variance  #########\n",
    "\n",
    "varList <-ls(pattern = \"p5M\\\\d{4}\")\n",
    "var_list <- lapply(varList, function(x) eval(parse(text = x)) )\n",
    "p5MTot <- do.call(rbind, var_list)\n",
    "\n"
   ]
  },
  {
   "cell_type": "code",
   "execution_count": null,
   "metadata": {
    "collapsed": true
   },
   "outputs": [],
   "source": []
  },
  {
   "cell_type": "code",
   "execution_count": null,
   "metadata": {
    "collapsed": true
   },
   "outputs": [],
   "source": []
  },
  {
   "cell_type": "code",
   "execution_count": 94,
   "metadata": {
    "collapsed": false
   },
   "outputs": [
    {
     "data": {
      "image/png": "[encoded data removed]",
      "text/plain": [
       "plot without title"
      ]
     },
     "metadata": {
      "image/svg+xml": {
       "isolated": true
      }
     },
     "output_type": "display_data"
    }
   ],
   "source": [
    "\n",
    "library(tidyr)\n",
    "#library(devtools)\n",
    "\n",
    "#head(p5MTot)\n",
    "\n",
    "# colnames(p5MTot)[c(6,8)]  # [1] \"TotPrbDLAvg\" \"TotPrbDLMax\"\n",
    "\n",
    "p5MTot.gr <- gather(p5MTot, \"key\", \"value\", c(6,8))\n",
    "\n",
    "ggplot(p5MTot.gr %>% filter(cellid %in% cellid_heavy[4:6]),\n",
    "       aes(time,value,color=cellid, group=cellid)) + geom_line(size=2) +\n",
    "        facet_wrap(~date+key, ncol=2)"
   ]
  },
  {
   "cell_type": "code",
   "execution_count": 88,
   "metadata": {
    "collapsed": false
   },
   "outputs": [],
   "source": [
    "############### PRB hourly Trend 00:00 ~ 24:00 ########\n",
    "varList <-ls(pattern = \"prb1H\\\\d{4}$\")\n",
    "var_list <- lapply(varList, function(x) eval(parse(text = x)) )\n",
    "prb1HTot <- do.call(rbind, var_list)\n"
   ]
  },
  {
   "cell_type": "code",
   "execution_count": 92,
   "metadata": {
    "collapsed": false
   },
   "outputs": [
    {
     "data": {
      "image/png": "[encoded data removed]",
      "text/plain": [
       "plot without title"
      ]
     },
     "metadata": {
      "image/svg+xml": {
       "isolated": true
      }
     },
     "output_type": "display_data"
    }
   ],
   "source": [
    "prb1HTot.gr <- gather(prb1HTot, \"key\", \"value\", c(6,8))\n",
    "\n",
    "ggplot(prb1HTot.gr %>% filter(cellid %in% cellid_heavy[1:3]),\n",
    "       aes(time,value,color=cellid, group=cellid)) + geom_line(size=2) +\n",
    "        facet_wrap(~date+key, ncol=2)"
   ]
  },
  {
   "cell_type": "code",
   "execution_count": 98,
   "metadata": {
    "collapsed": false
   },
   "outputs": [
    {
     "data": {
      "image/png": "[encoded data removed]",
      "text/plain": [
       "plot without title"
      ]
     },
     "metadata": {
      "image/svg+xml": {
       "isolated": true
      }
     },
     "output_type": "display_data"
    }
   ],
   "source": [
    "############### conn and others... ########\n",
    "varList <-ls(pattern = \"conn1H\\\\d{4}$\")\n",
    "var_list <- lapply(varList, function(x) eval(parse(text = x)) )\n",
    "conn1HTot <- do.call(rbind, var_list)\n",
    "\n",
    "conn1HTot.gr <- gather(conn1HTot, \"key\", \"value\", c(5,6))\n",
    "\n",
    "\n",
    "ggplot(conn1HTot.gr %>% filter(cellid %in% cellid_heavy[1:3]),\n",
    "       aes(time,value,color=cellid, group=cellid)) + geom_line(size=2) +\n",
    "        facet_wrap(~date+key, ncol=2)"
   ]
  }
 ],
 "metadata": {
  "anaconda-cloud": {},
  "kernelspec": {
   "display_name": "R",
   "language": "R",
   "name": "ir"
  },
  "language_info": {
   "codemirror_mode": "r",
   "file_extension": ".r",
   "mimetype": "text/x-r-source",
   "name": "R",
   "pygments_lexer": "r",
   "version": "3.3.1"
  }
 },
 "nbformat": 4,
 "nbformat_minor": 0
}
